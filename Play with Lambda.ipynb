{
 "cells": [
  {
   "cell_type": "code",
   "execution_count": 19,
   "id": "8965a311",
   "metadata": {},
   "outputs": [
    {
     "name": "stdout",
     "output_type": "stream",
     "text": [
      "35\n"
     ]
    }
   ],
   "source": [
    "#Creating a Lambda function that Adds 25 to a given Expression\n",
    "# By Taking Sample input:10\n",
    "r = lambda x, y : x + y\n",
    "print(r(10,25))"
   ]
  },
  {
   "cell_type": "code",
   "execution_count": null,
   "id": "901d0b2e",
   "metadata": {},
   "outputs": [],
   "source": []
  }
 ],
 "metadata": {
  "kernelspec": {
   "display_name": "Python 3 (ipykernel)",
   "language": "python",
   "name": "python3"
  },
  "language_info": {
   "codemirror_mode": {
    "name": "ipython",
    "version": 3
   },
   "file_extension": ".py",
   "mimetype": "text/x-python",
   "name": "python",
   "nbconvert_exporter": "python",
   "pygments_lexer": "ipython3",
   "version": "3.9.7"
  }
 },
 "nbformat": 4,
 "nbformat_minor": 5
}
